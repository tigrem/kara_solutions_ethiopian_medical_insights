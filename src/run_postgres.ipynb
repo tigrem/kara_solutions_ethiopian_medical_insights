{
 "cells": [
  {
   "cell_type": "code",
   "execution_count": 1,
   "id": "58719394-5821-4599-81b6-c422cdc7fb7f",
   "metadata": {},
   "outputs": [
    {
     "name": "stderr",
     "output_type": "stream",
     "text": [
      "2025-07-15 11:38:43,620 - INFO - Project root for execution: D:\\10academy\\week7\\kara_solutions_ethiopian_medical_insights\n",
      "2025-07-15 11:38:43,621 - INFO - --- Running Data Loading Script to PostgreSQL ---\n",
      "2025-07-15 12:27:55,859 - INFO - \n",
      "2025-07-15 12:27:55,903 - WARNING - Errors/Warnings from script:\n",
      "2025-07-15 11:38:43,728 - INFO - Project Root: D:\\10academy\\week7\\kara_solutions_ethiopian_medical_insights\n",
      "2025-07-15 11:38:43,728 - INFO - Base Directory for Raw Data: D:\\10academy\\week7\\kara_solutions_ethiopian_medical_insights\\data\\raw\\telegram_messages\n",
      "2025-07-15 11:39:00,367 - INFO - Table 'public.raw_telegram_messages' ensured to exist.\n",
      "2025-07-15 11:39:00,386 - INFO - Processing directory: D:\\10academy\\week7\\kara_solutions_ethiopian_medical_insights\\data\\raw\\telegram_messages\\2025-07-13\\lobelia4cosmetics (Channel: lobelia4cosmetics, Date: 2025-07-13)\n",
      "2025-07-15 11:45:09,676 - INFO - Processing directory: D:\\10academy\\week7\\kara_solutions_ethiopian_medical_insights\\data\\raw\\telegram_messages\\2025-07-13\\tikvahpharma (Channel: tikvahpharma, Date: 2025-07-13)\n",
      "2025-07-15 12:12:05,473 - INFO - Committed data for date: 2025-07-13\n",
      "2025-07-15 12:12:05,485 - INFO - Processing directory: D:\\10academy\\week7\\kara_solutions_ethiopian_medical_insights\\data\\raw\\telegram_messages\\2025-07-14\\CheMed123 (Channel: CheMed123, Date: 2025-07-14)\n",
      "2025-07-15 12:12:21,216 - INFO - Processing directory: D:\\10academy\\week7\\kara_solutions_ethiopian_medical_insights\\data\\raw\\telegram_messages\\2025-07-14\\lobelia4cosmetics (Channel: lobelia4cosmetics, Date: 2025-07-14)\n",
      "2025-07-15 12:18:31,718 - INFO - Processing directory: D:\\10academy\\week7\\kara_solutions_ethiopian_medical_insights\\data\\raw\\telegram_messages\\2025-07-14\\tikvahpharma (Channel: tikvahpharma, Date: 2025-07-14)\n",
      "2025-07-15 12:27:55,756 - INFO - Committed data for date: 2025-07-14\n",
      "2025-07-15 12:27:55,757 - INFO - Successfully processed and loaded 14067 JSON files into PostgreSQL.\n",
      "2025-07-15 12:27:55,765 - INFO - PostgreSQL connection closed.\n",
      "\n",
      "2025-07-15 12:27:55,906 - INFO - \n",
      "--- Data Loading Finished ---\n"
     ]
    }
   ],
   "source": [
    "import subprocess\n",
    "import os\n",
    "import logging\n",
    "\n",
    "# Set up logging for the notebook output\n",
    "logging.basicConfig(level=logging.INFO, format='%(asctime)s - %(levelname)s - %(message)s')\n",
    "\n",
    "# Ensure we are in the project root for execution\n",
    "# This assumes the notebook is in kara_solutions_ethiopian_medical_insights/src/\n",
    "# So, go up one level to the project root\n",
    "project_root = os.path.abspath(os.path.join(os.getcwd(), '..'))\n",
    "logging.info(f\"Project root for execution: {project_root}\")\n",
    "\n",
    "load_script_path = os.path.join(project_root, \"src\", \"load_to_postgres.py\")\n",
    "if not os.path.exists(load_script_path):\n",
    "    logging.error(f\"Error: load_to_postgres.py not found at {load_script_path}. Please check the path.\")\n",
    "else:\n",
    "    logging.info(\"--- Running Data Loading Script to PostgreSQL ---\")\n",
    "    try:\n",
    "        result = subprocess.run(\n",
    "            [\"python\", load_script_path],\n",
    "            capture_output=True,\n",
    "            text=True,\n",
    "            check=True,  # Raise an exception for non-zero exit codes\n",
    "            cwd=project_root  # Set current working directory for the subprocess\n",
    "        )\n",
    "        logging.info(result.stdout)\n",
    "        if result.stderr:\n",
    "            logging.warning(\"Errors/Warnings from script:\\n\" + result.stderr)\n",
    "    except subprocess.CalledProcessError as e:\n",
    "        logging.error(f\"Script failed with error code {e.returncode}\")\n",
    "        logging.error(f\"Stdout:\\n{e.stdout}\")\n",
    "        logging.error(f\"Stderr:\\n{e.stderr}\")\n",
    "    except FileNotFoundError:\n",
    "        logging.error(f\"Error: Python executable not found. Make sure Python is in your PATH.\")\n",
    "    logging.info(\"\\n--- Data Loading Finished ---\")"
   ]
  },
  {
   "cell_type": "code",
   "execution_count": null,
   "id": "2918790b-06c5-490b-a50a-9018c6985491",
   "metadata": {},
   "outputs": [],
   "source": []
  }
 ],
 "metadata": {
  "kernelspec": {
   "display_name": "Python 3 (ipykernel)",
   "language": "python",
   "name": "python3"
  },
  "language_info": {
   "codemirror_mode": {
    "name": "ipython",
    "version": 3
   },
   "file_extension": ".py",
   "mimetype": "text/x-python",
   "name": "python",
   "nbconvert_exporter": "python",
   "pygments_lexer": "ipython3",
   "version": "3.13.3"
  }
 },
 "nbformat": 4,
 "nbformat_minor": 5
}
